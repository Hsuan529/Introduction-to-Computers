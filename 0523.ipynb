{
  "nbformat": 4,
  "nbformat_minor": 0,
  "metadata": {
    "colab": {
      "name": "0523.ipynb",
      "provenance": [],
      "authorship_tag": "ABX9TyOInUdn1YvjyPgJUEQZmvw2",
      "include_colab_link": true
    },
    "kernelspec": {
      "name": "python3",
      "display_name": "Python 3"
    },
    "language_info": {
      "name": "python"
    }
  },
  "cells": [
    {
      "cell_type": "markdown",
      "metadata": {
        "id": "view-in-github",
        "colab_type": "text"
      },
      "source": [
        "<a href=\"https://colab.research.google.com/github/Hsuan529/Introduction-to-Computers/blob/main/0523.ipynb\" target=\"_parent\"><img src=\"https://colab.research.google.com/assets/colab-badge.svg\" alt=\"Open In Colab\"/></a>"
      ]
    },
    {
      "cell_type": "code",
      "execution_count": null,
      "metadata": {
        "colab": {
          "base_uri": "https://localhost:8080/"
        },
        "id": "WxnZtpTCrvmL",
        "outputId": "00e07030-317d-43f6-e84b-44d8a809a83a"
      },
      "outputs": [
        {
          "output_type": "stream",
          "name": "stdout",
          "text": [
            "請輸入一個正整數:50\n",
            "1到 50 的正整數和為 1275\n"
          ]
        }
      ],
      "source": [
        "sum = 0\n",
        "test = int(input(\"請輸入一個正整數:\"))\n",
        "for n in range(1, test+1):\n",
        "  sum = sum+n\n",
        "print(\"1到\",test,\"的正整數和為\" ,sum)"
      ]
    },
    {
      "cell_type": "code",
      "source": [
        "sum = 0\n",
        "test = int(input(\"請輸入一個正整數:\"))\n",
        "for m in range(1, test+1):\n",
        "  sum = sum+m\n",
        "  print(\"1到\",str(m),\"的正整數和為\",sum)"
      ],
      "metadata": {
        "colab": {
          "base_uri": "https://localhost:8080/"
        },
        "id": "sGFG17QuBJ70",
        "outputId": "6803b989-45bb-4631-9501-7ede0a11bb70"
      },
      "execution_count": null,
      "outputs": [
        {
          "output_type": "stream",
          "name": "stdout",
          "text": [
            "請輸入一個正整數:50\n",
            "1到 1 的正整數和為 1\n",
            "1到 2 的正整數和為 3\n",
            "1到 3 的正整數和為 6\n",
            "1到 4 的正整數和為 10\n",
            "1到 5 的正整數和為 15\n",
            "1到 6 的正整數和為 21\n",
            "1到 7 的正整數和為 28\n",
            "1到 8 的正整數和為 36\n",
            "1到 9 的正整數和為 45\n",
            "1到 10 的正整數和為 55\n",
            "1到 11 的正整數和為 66\n",
            "1到 12 的正整數和為 78\n",
            "1到 13 的正整數和為 91\n",
            "1到 14 的正整數和為 105\n",
            "1到 15 的正整數和為 120\n",
            "1到 16 的正整數和為 136\n",
            "1到 17 的正整數和為 153\n",
            "1到 18 的正整數和為 171\n",
            "1到 19 的正整數和為 190\n",
            "1到 20 的正整數和為 210\n",
            "1到 21 的正整數和為 231\n",
            "1到 22 的正整數和為 253\n",
            "1到 23 的正整數和為 276\n",
            "1到 24 的正整數和為 300\n",
            "1到 25 的正整數和為 325\n",
            "1到 26 的正整數和為 351\n",
            "1到 27 的正整數和為 378\n",
            "1到 28 的正整數和為 406\n",
            "1到 29 的正整數和為 435\n",
            "1到 30 的正整數和為 465\n",
            "1到 31 的正整數和為 496\n",
            "1到 32 的正整數和為 528\n",
            "1到 33 的正整數和為 561\n",
            "1到 34 的正整數和為 595\n",
            "1到 35 的正整數和為 630\n",
            "1到 36 的正整數和為 666\n",
            "1到 37 的正整數和為 703\n",
            "1到 38 的正整數和為 741\n",
            "1到 39 的正整數和為 780\n",
            "1到 40 的正整數和為 820\n",
            "1到 41 的正整數和為 861\n",
            "1到 42 的正整數和為 903\n",
            "1到 43 的正整數和為 946\n",
            "1到 44 的正整數和為 990\n",
            "1到 45 的正整數和為 1035\n",
            "1到 46 的正整數和為 1081\n",
            "1到 47 的正整數和為 1128\n",
            "1到 48 的正整數和為 1176\n",
            "1到 49 的正整數和為 1225\n",
            "1到 50 的正整數和為 1275\n"
          ]
        }
      ]
    },
    {
      "cell_type": "code",
      "source": [
        "for j in range(1, 5):\n",
        "  print(j)\n",
        "  for i in range(1, 3):\n",
        "    k= i*j\n",
        "    print(j, \"*\",i, \"=\", k)"
      ],
      "metadata": {
        "colab": {
          "base_uri": "https://localhost:8080/"
        },
        "id": "5egeWuZsBKAy",
        "outputId": "f26de894-6cd4-457e-aa29-c21f2c8f770f"
      },
      "execution_count": 10,
      "outputs": [
        {
          "output_type": "stream",
          "name": "stdout",
          "text": [
            "1\n",
            "1 * 1 = 1\n",
            "1 * 2 = 2\n",
            "2\n",
            "2 * 1 = 2\n",
            "2 * 2 = 4\n",
            "3\n",
            "3 * 1 = 3\n",
            "3 * 2 = 6\n",
            "4\n",
            "4 * 1 = 4\n",
            "4 * 2 = 8\n"
          ]
        }
      ]
    },
    {
      "cell_type": "code",
      "source": [
        "for j in range(1, 6):\n",
        "  print(j)\n",
        "  for i in range(1, 3):\n",
        "    k= i*j\n",
        "    print(j, \"*\",i, \"=\", k)"
      ],
      "metadata": {
        "id": "WY0jN0bnB4HG",
        "colab": {
          "base_uri": "https://localhost:8080/"
        },
        "outputId": "8d18be1c-8825-419c-e54a-674def65d285"
      },
      "execution_count": 11,
      "outputs": [
        {
          "output_type": "stream",
          "name": "stdout",
          "text": [
            "1\n",
            "1 * 1 = 1\n",
            "1 * 2 = 2\n",
            "2\n",
            "2 * 1 = 2\n",
            "2 * 2 = 4\n",
            "3\n",
            "3 * 1 = 3\n",
            "3 * 2 = 6\n",
            "4\n",
            "4 * 1 = 4\n",
            "4 * 2 = 8\n",
            "5\n",
            "5 * 1 = 5\n",
            "5 * 2 = 10\n"
          ]
        }
      ]
    },
    {
      "cell_type": "code",
      "source": [
        "for n in range(2,10):\n",
        "  for m in range(1,10):\n",
        "    print(\"%d * %d = %2d\" %(n, m, n*m), end=\" \")\n",
        "  print()"
      ],
      "metadata": {
        "id": "2c6yw4kvB4Jo",
        "colab": {
          "base_uri": "https://localhost:8080/"
        },
        "outputId": "8a431622-41bd-4ba4-be30-0803d474d7f6"
      },
      "execution_count": 12,
      "outputs": [
        {
          "output_type": "stream",
          "name": "stdout",
          "text": [
            "2 * 1 =  2 2 * 2 =  4 2 * 3 =  6 2 * 4 =  8 2 * 5 = 10 2 * 6 = 12 2 * 7 = 14 2 * 8 = 16 2 * 9 = 18 \n",
            "3 * 1 =  3 3 * 2 =  6 3 * 3 =  9 3 * 4 = 12 3 * 5 = 15 3 * 6 = 18 3 * 7 = 21 3 * 8 = 24 3 * 9 = 27 \n",
            "4 * 1 =  4 4 * 2 =  8 4 * 3 = 12 4 * 4 = 16 4 * 5 = 20 4 * 6 = 24 4 * 7 = 28 4 * 8 = 32 4 * 9 = 36 \n",
            "5 * 1 =  5 5 * 2 = 10 5 * 3 = 15 5 * 4 = 20 5 * 5 = 25 5 * 6 = 30 5 * 7 = 35 5 * 8 = 40 5 * 9 = 45 \n",
            "6 * 1 =  6 6 * 2 = 12 6 * 3 = 18 6 * 4 = 24 6 * 5 = 30 6 * 6 = 36 6 * 7 = 42 6 * 8 = 48 6 * 9 = 54 \n",
            "7 * 1 =  7 7 * 2 = 14 7 * 3 = 21 7 * 4 = 28 7 * 5 = 35 7 * 6 = 42 7 * 7 = 49 7 * 8 = 56 7 * 9 = 63 \n",
            "8 * 1 =  8 8 * 2 = 16 8 * 3 = 24 8 * 4 = 32 8 * 5 = 40 8 * 6 = 48 8 * 7 = 56 8 * 8 = 64 8 * 9 = 72 \n",
            "9 * 1 =  9 9 * 2 = 18 9 * 3 = 27 9 * 4 = 36 9 * 5 = 45 9 * 6 = 54 9 * 7 = 63 9 * 8 = 72 9 * 9 = 81 \n"
          ]
        }
      ]
    },
    {
      "cell_type": "code",
      "source": [
        "for i in range(1, 5):\n",
        "  if(i == 4):\n",
        "    break\n",
        "  print(i, end=\" \")"
      ],
      "metadata": {
        "id": "8ytjuhdgB4MR",
        "colab": {
          "base_uri": "https://localhost:8080/"
        },
        "outputId": "4b6d6010-024f-48d4-8e7d-a98063a39faa"
      },
      "execution_count": 13,
      "outputs": [
        {
          "output_type": "stream",
          "name": "stdout",
          "text": [
            "1 2 3 "
          ]
        }
      ]
    },
    {
      "cell_type": "code",
      "source": [
        "for i in range(1, 5):\n",
        "  if(i == 4):\n",
        "    continue\n",
        "  print(i, end=\" \")"
      ],
      "metadata": {
        "id": "QKm0EX4vB4O7",
        "colab": {
          "base_uri": "https://localhost:8080/"
        },
        "outputId": "61b62655-7fc9-41ec-cf14-b6df76ca960c"
      },
      "execution_count": 15,
      "outputs": [
        {
          "output_type": "stream",
          "name": "stdout",
          "text": [
            "1 2 3 "
          ]
        }
      ]
    },
    {
      "cell_type": "code",
      "source": [
        "count = 0\n",
        "for string in \"測試看看!\":\n",
        "  count += 1\n",
        "  if  string == \"看\":\n",
        "    break\n",
        "  print(string) \n",
        "print(\"迴圈結束!\")\n",
        "print(\"迴圈執行了 %d \" %count)"
      ],
      "metadata": {
        "id": "Av10YQQFB4RU",
        "colab": {
          "base_uri": "https://localhost:8080/"
        },
        "outputId": "cd7eee36-ae3b-4bc7-b507-e58186ade0f1"
      },
      "execution_count": 22,
      "outputs": [
        {
          "output_type": "stream",
          "name": "stdout",
          "text": [
            "測\n",
            "試\n",
            "迴圈結束!\n",
            "迴圈執行了 3 \n"
          ]
        }
      ]
    },
    {
      "cell_type": "code",
      "source": [
        "count = 0\n",
        "for string in \"Look!\":\n",
        "  count += 1\n",
        "  if  string == \"k\":\n",
        "    break\n",
        "  print(string) \n",
        "print(\"迴圈結束!\")\n",
        "print(\"迴圈執行了 %d \" %count)"
      ],
      "metadata": {
        "id": "YLbmH-xjB4T0",
        "colab": {
          "base_uri": "https://localhost:8080/"
        },
        "outputId": "91d80abf-45c0-47ae-b6eb-c02b09e54b41"
      },
      "execution_count": 23,
      "outputs": [
        {
          "output_type": "stream",
          "name": "stdout",
          "text": [
            "L\n",
            "o\n",
            "o\n",
            "迴圈結束!\n",
            "迴圈執行了 4 \n"
          ]
        }
      ]
    },
    {
      "cell_type": "code",
      "source": [
        "a = int(input(\"請輸入 a 的值:\"))\n",
        "b = int(input(\"請輸入 b 的值:\"))\n",
        "maxno = a * b \n",
        "for n in range(1, maxno+1):\n",
        "  if(n %a == 0 and n %b == 0):\n",
        "    break\n",
        "print(\"%d 和 %d 的最小公倍數= %d\" %(a, b, n))"
      ],
      "metadata": {
        "id": "nwHZzQYVB4Wh",
        "colab": {
          "base_uri": "https://localhost:8080/"
        },
        "outputId": "537c8f3b-c6e5-4c58-9c89-989aa18ba436"
      },
      "execution_count": 30,
      "outputs": [
        {
          "output_type": "stream",
          "name": "stdout",
          "text": [
            "請輸入 a 的值:4\n",
            "請輸入 b 的值:6\n",
            "4 和 6 的最小公倍數= 12\n"
          ]
        }
      ]
    },
    {
      "cell_type": "code",
      "source": [
        "a = int(input(\"請輸入 a 的值:\"))\n",
        "b = int(input(\"請輸入 b 的值:\"))\n",
        "maxno = a * b \n",
        "for m in range(1, maxno+1):\n",
        "  if(m %a == 0 and m %b == 0):\n",
        "    break\n",
        "print(\"%d 和 %d 的最小公倍數= %d\" %(a, b, m))"
      ],
      "metadata": {
        "id": "01ScxV3IBKDQ",
        "colab": {
          "base_uri": "https://localhost:8080/"
        },
        "outputId": "b7d4fa3c-8bd4-461b-acb0-9c695e620815"
      },
      "execution_count": 29,
      "outputs": [
        {
          "output_type": "stream",
          "name": "stdout",
          "text": [
            "請輸入 a 的值:9\n",
            "請輸入 b 的值:15\n",
            "9 和 15 的最小公倍數= 45\n"
          ]
        }
      ]
    },
    {
      "cell_type": "code",
      "source": [
        "n =int(input(\"請輸入正整數:\"))\n",
        "for m in range(1, n+1):\n",
        "  if m %5 == 0:\n",
        "    continue\n",
        "  print(m, end=\" \")"
      ],
      "metadata": {
        "id": "aW4l5XpOBKFo",
        "colab": {
          "base_uri": "https://localhost:8080/"
        },
        "outputId": "5bd49dd4-85ac-4096-d478-508ce25533ff"
      },
      "execution_count": 27,
      "outputs": [
        {
          "output_type": "stream",
          "name": "stdout",
          "text": [
            "請輸入正整數:12\n",
            "1 2 3 4 6 7 8 9 11 12 "
          ]
        }
      ]
    },
    {
      "cell_type": "code",
      "source": [
        "n =int(input(\"請輸入正整數:\"))\n",
        "for m in range(1, n+1):\n",
        "  if m %5 == 0:\n",
        "    continue\n",
        "  print(m, end=\" \")"
      ],
      "metadata": {
        "id": "tIN5f52lBKIV",
        "colab": {
          "base_uri": "https://localhost:8080/"
        },
        "outputId": "76e0e371-39f1-448a-e7c3-f2149585c5bc"
      },
      "execution_count": 28,
      "outputs": [
        {
          "output_type": "stream",
          "name": "stdout",
          "text": [
            "請輸入正整數:21\n",
            "1 2 3 4 6 7 8 9 11 12 13 14 16 17 18 19 21 "
          ]
        }
      ]
    },
    {
      "cell_type": "code",
      "source": [
        ""
      ],
      "metadata": {
        "id": "5DspnZn2BKLb"
      },
      "execution_count": null,
      "outputs": []
    },
    {
      "cell_type": "code",
      "source": [
        ""
      ],
      "metadata": {
        "id": "CRisPspXBKOT"
      },
      "execution_count": null,
      "outputs": []
    },
    {
      "cell_type": "code",
      "source": [
        ""
      ],
      "metadata": {
        "id": "k8WEfZqFBKQ5"
      },
      "execution_count": null,
      "outputs": []
    }
  ]
}