{
  "nbformat": 4,
  "nbformat_minor": 0,
  "metadata": {
    "colab": {
      "name": "0509.ipynb",
      "provenance": [],
      "authorship_tag": "ABX9TyP1QqO6Aaba9sQlxmSs7N4Q",
      "include_colab_link": true
    },
    "kernelspec": {
      "name": "python3",
      "display_name": "Python 3"
    },
    "language_info": {
      "name": "python"
    }
  },
  "cells": [
    {
      "cell_type": "markdown",
      "metadata": {
        "id": "view-in-github",
        "colab_type": "text"
      },
      "source": [
        "<a href=\"https://colab.research.google.com/github/Hsuan529/Introduction-to-Computers/blob/main/0509.ipynb\" target=\"_parent\"><img src=\"https://colab.research.google.com/assets/colab-badge.svg\" alt=\"Open In Colab\"/></a>"
      ]
    },
    {
      "cell_type": "code",
      "execution_count": 3,
      "metadata": {
        "colab": {
          "base_uri": "https://localhost:8080/"
        },
        "id": "XHaOu1Tr7mQK",
        "outputId": "02da7ed6-4868-4948-9e61-5dfb5017a7af"
      },
      "outputs": [
        {
          "output_type": "stream",
          "name": "stdout",
          "text": [
            "請輸入您的體溫:34\n",
            "體溫正常!\n"
          ]
        }
      ],
      "source": [
        "temp=float(input(\"請輸入您的體溫:\"))\n",
        "if temp>= 37.5:\n",
        "  print(\"體溫過高:\")\n",
        "elif temp>= 37 and temp < 37.4:\n",
        "  print(\"體溫略高!\")\n",
        "elif temp >= 34 and temp <= 36.9:\n",
        "  print(\"體溫正常!\")\n",
        "else:\n",
        "  print(\"體溫異常，請重新測量!\")"
      ]
    },
    {
      "cell_type": "code",
      "source": [
        "score=int(input(\"請輸入成績:\"))\n",
        "if score >= 90:\n",
        "  print(\"A\")\n",
        "elif score >= 80:\n",
        "  print(\"B\")\n",
        "elif score >= 70:\n",
        "  print(\"C\")\n",
        "elif score >= 60:\n",
        "  print(\"D\")\n",
        "else:\n",
        "  print(\"E\")\n"
      ],
      "metadata": {
        "colab": {
          "base_uri": "https://localhost:8080/"
        },
        "id": "kgtqHaUX9ZRT",
        "outputId": "63f85d76-9235-4d0b-f042-34cdee37034a"
      },
      "execution_count": 6,
      "outputs": [
        {
          "output_type": "stream",
          "name": "stdout",
          "text": [
            "請輸入成績:79\n",
            "C\n"
          ]
        }
      ]
    },
    {
      "cell_type": "code",
      "source": [
        "money =int(input(\"請輸入購物金額:\"))\n",
        "if (money >= 10000):\n",
        "  if(money >= 100000):\n",
        "    print(\"八折\",money * 0.8, end = \"元\\n\")\n",
        "  elif(money >= 50000):\n",
        "    print(\"八五折\", money *0.85, end = \"元\\n\")\n",
        "  elif(money >= 30000):\n",
        "    print(\"九折\", money *0.9, end= \"元\\n\")\n",
        "  else:\n",
        "    print(\"九五折\", money * 0.95, end = \"元\\n\")\n",
        "else:\n",
        "  print(\"沒打折\", money, end = \"元\\n\")\n"
      ],
      "metadata": {
        "colab": {
          "base_uri": "https://localhost:8080/"
        },
        "id": "FQ4rcgzK9dL3",
        "outputId": "1e10735a-dc29-45a9-95b4-c86ce976628d"
      },
      "execution_count": 8,
      "outputs": [
        {
          "output_type": "stream",
          "name": "stdout",
          "text": [
            "請輸入購物金額:50000\n",
            "八五折 42500.0元\n"
          ]
        }
      ]
    },
    {
      "cell_type": "code",
      "source": [
        "month=int(input(\"請輸入月份:\"))\n",
        "if (month == 3 or month == 4 or month == 5):\n",
        "  print(\"{}月是春天!\".format(month))\n",
        "elif (month == 6 or month == 7 or month == 8):\n",
        "  print(\"{}月是夏天!\".format(month))\n",
        "elif (month == 9 or month == 10 or month == 11):\n",
        "  print(\"{}月是秋天!\".format(month))\n",
        "elif (month == 12 or month == 1 or month == 2):\n",
        "  print(\"{}月是冬天!\".format(month))\n",
        "else:\n",
        "  print(\"月份不在範圍內!\")"
      ],
      "metadata": {
        "colab": {
          "base_uri": "https://localhost:8080/"
        },
        "id": "pjjKSXeI9dT7",
        "outputId": "49af5523-26de-45b2-d8fa-83537b625699"
      },
      "execution_count": 17,
      "outputs": [
        {
          "output_type": "stream",
          "name": "stdout",
          "text": [
            "請輸入月份:3\n",
            "3月是春天!\n"
          ]
        }
      ]
    },
    {
      "cell_type": "code",
      "source": [
        "revenue= int(input(\"請輸入今年收入淨額:\"))\n",
        "if (revenue >= 300000):\n",
        "  if(revenue >= 2000000):\n",
        "    print(\"付稅金額:\",revenue * 0.3, end = \"元\\n\")\n",
        "  elif(revenue >= 1000000):\n",
        "    print(\"付稅金額:\", revenue *0.21, end = \"元\\n\")\n",
        "  elif(revenue >= 600000):\n",
        "    print(\"付稅金額:\", revenue *0.13, end= \"元\\n\")\n",
        "  elif(revenue >= 300000):\n",
        "    print(\"付稅金額:\", revenue *0.06, end= \"元\\n\")\n",
        "else:\n",
        "  print(\"付稅金額:\", revenue * 0, end = \"元\\n\")"
      ],
      "metadata": {
        "colab": {
          "base_uri": "https://localhost:8080/"
        },
        "id": "0hyzoCVv9dXB",
        "outputId": "27f52c5c-9c44-4955-c2e1-42da20d6fa83"
      },
      "execution_count": 24,
      "outputs": [
        {
          "output_type": "stream",
          "name": "stdout",
          "text": [
            "請輸入今年收入淨額:100000\n",
            "付稅金額: 0元\n"
          ]
        }
      ]
    },
    {
      "cell_type": "code",
      "source": [
        ""
      ],
      "metadata": {
        "id": "-HvX39HR9dZ5"
      },
      "execution_count": null,
      "outputs": []
    }
  ]
}